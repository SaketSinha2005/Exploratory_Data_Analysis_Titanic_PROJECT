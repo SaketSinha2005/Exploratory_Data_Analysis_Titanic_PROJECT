{
 "cells": [
  {
   "cell_type": "code",
   "execution_count": 1,
   "id": "a55d6d85-3d66-425f-b2f2-98ff2c797357",
   "metadata": {},
   "outputs": [],
   "source": [
    "import numpy as np\n",
    "import pandas as pd\n",
    "import os\n",
    "import matplotlib.pyplot as plt\n",
    "from sklearn.impute import SimpleImputer\n",
    "from sklearn.preprocessing import OneHotEncoder\n",
    "from sklearn.preprocessing import StandardScaler"
   ]
  },
  {
   "cell_type": "code",
   "execution_count": 2,
   "id": "b1f40ece-08e7-434b-ac95-e090e7794c04",
   "metadata": {},
   "outputs": [],
   "source": [
    "pwd = os.getcwd()\n",
    "filepath = os.path.join(pwd, 'dataset/titanic.csv')"
   ]
  },
  {
   "cell_type": "code",
   "execution_count": 3,
   "id": "5d91d6ce-1ee6-4f3d-bf2c-d1c704a85a90",
   "metadata": {},
   "outputs": [],
   "source": [
    "df = pd.read_csv(filepath)"
   ]
  },
  {
   "cell_type": "code",
   "execution_count": 4,
   "id": "4cd99a84-e75a-43b9-896f-391418a6b9ba",
   "metadata": {},
   "outputs": [],
   "source": [
    "def data_cleaning(df):\n",
    "    df.drop(['Name', 'Cabin', 'Ticket'], axis=1, inplace=True)\n",
    "    df.dropna(subset=[\"Embarked\"], inplace=True)\n",
    "    imputer = SimpleImputer(strategy=\"median\")\n",
    "    df_num = df.select_dtypes(include=[np.number])\n",
    "    imputer.fit(df_num)\n",
    "    x=imputer.transform(df_num)\n",
    "    df[df_num.columns]=pd.DataFrame(x, columns=df_num.columns, index=df_num.index)\n",
    "    return df"
   ]
  },
  {
   "cell_type": "code",
   "execution_count": 5,
   "id": "97f4e100-3c1d-47a8-b262-013a3c5076af",
   "metadata": {},
   "outputs": [],
   "source": [
    "def one_hot_encode(df):\n",
    "    df_cat = df[[\"Sex\", \"Embarked\"]]\n",
    "    cat_encoder = OneHotEncoder(sparse=False)\n",
    "    df_cat_1hot = cat_encoder.fit_transform(df_cat)\n",
    "    feature_names = cat_encoder.get_feature_names_out([\"Sex\", \"Embarked\"])\n",
    "    new_df = pd.DataFrame(df_cat_1hot, columns=feature_names, index=df.index)\n",
    "    df.drop(['Sex', 'Embarked'], axis=1, inplace=True)\n",
    "    df = pd.concat([df, new_df], axis=1)\n",
    "    return df"
   ]
  },
  {
   "cell_type": "code",
   "execution_count": null,
   "id": "04557581-5134-4a3b-9394-7f87073442c7",
   "metadata": {},
   "outputs": [],
   "source": []
  }
 ],
 "metadata": {
  "kernelspec": {
   "display_name": "Python 3 (ipykernel)",
   "language": "python",
   "name": "python3"
  },
  "language_info": {
   "codemirror_mode": {
    "name": "ipython",
    "version": 3
   },
   "file_extension": ".py",
   "mimetype": "text/x-python",
   "name": "python",
   "nbconvert_exporter": "python",
   "pygments_lexer": "ipython3",
   "version": "3.12.5"
  }
 },
 "nbformat": 4,
 "nbformat_minor": 5
}
